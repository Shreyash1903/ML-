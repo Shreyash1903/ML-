{
  "cells": [
    {
      "cell_type": "code",
      "execution_count": 2,
      "metadata": {
        "id": "jx4G0Ok042ae"
      },
      "outputs": [],
      "source": [
        "import pandas as pd\n",
        "import numpy as np\n",
        "import matplotlib.pyplot as plt\n",
        "import seaborn as sns\n",
        "from sklearn.model_selection import train_test_split, cross_val_score\n",
        "from sklearn.preprocessing import StandardScaler, PolynomialFeatures\n",
        "from sklearn.linear_model import LinearRegression, Ridge, Lasso\n",
        "from sklearn.metrics import mean_absolute_error, mean_squared_error, r2_score\n",
        "from sklearn.feature_selection import RFE\n",
        "from scipy.stats import zscore"
      ]
    },
    {
      "cell_type": "code",
      "execution_count": 3,
      "metadata": {
        "id": "m9t-u98J7qLh"
      },
      "outputs": [],
      "source": [
        "# Load dataset\n",
        "data = pd.read_csv(\"Housing - Housing.csv\")  # Replace with actual file path"
      ]
    },
    {
      "cell_type": "code",
      "execution_count": 4,
      "metadata": {
        "colab": {
          "base_uri": "https://localhost:8080/"
        },
        "id": "-NmiBSNK-3Ck",
        "outputId": "40117f68-49c0-4964-8822-6230e70c790e"
      },
      "outputs": [
        {
          "name": "stdout",
          "output_type": "stream",
          "text": [
            "Index(['price', 'area', 'bedrooms', 'bathrooms', 'stories', 'mainroad',\n",
            "       'guestroom', 'basement', 'hotwaterheating', 'airconditioning',\n",
            "       'parking', 'prefarea', 'furnishingstatus'],\n",
            "      dtype='object')\n"
          ]
        }
      ],
      "source": [
        "print(data.columns)  # Check available columns\n",
        "data.columns = data.columns.str.strip()  # Remove any leading/trailing spaces"
      ]
    },
    {
      "cell_type": "code",
      "execution_count": 5,
      "metadata": {
        "colab": {
          "base_uri": "https://localhost:8080/"
        },
        "id": "9rzHckKY-Z9D",
        "outputId": "10ac66e3-293c-4701-ff87-af1e88076b03"
      },
      "outputs": [
        {
          "name": "stdout",
          "output_type": "stream",
          "text": [
            "Linear Regression:\n",
            "  Mean Absolute Error (MAE): 0.17443304130091664\n",
            "  Root Mean Squared Error (RMSE): 0.21999930194879713\n",
            "  R-squared (R2): 0.6869028360980141\n",
            "----------------------------------------\n",
            "Ridge Regression:\n",
            "  Mean Absolute Error (MAE): 0.1744505071732555\n",
            "  Root Mean Squared Error (RMSE): 0.22007058735189827\n",
            "  R-squared (R2): 0.6866999002400717\n",
            "----------------------------------------\n",
            "Lasso Regression:\n",
            "  Mean Absolute Error (MAE): 0.2583416651286193\n",
            "  Root Mean Squared Error (RMSE): 0.3233854900158352\n",
            "  R-squared (R2): 0.32348475552366196\n",
            "----------------------------------------\n"
          ]
        },
        {
          "name": "stderr",
          "output_type": "stream",
          "text": [
            "C:\\Users\\HP\\AppData\\Local\\Temp\\ipykernel_10052\\2345179479.py:3: FutureWarning: Downcasting behavior in `replace` is deprecated and will be removed in a future version. To retain the old behavior, explicitly call `result.infer_objects(copy=False)`. To opt-in to the future behavior, set `pd.set_option('future.no_silent_downcasting', True)`\n",
            "  data[categorical_cols] = data[categorical_cols].replace({'yes': 1, 'no': 0})\n"
          ]
        }
      ],
      "source": [
        "# Convert categorical variables to numerical\n",
        "categorical_cols = ['mainroad', 'guestroom', 'basement', 'hotwaterheating', 'airconditioning', 'prefarea']\n",
        "data[categorical_cols] = data[categorical_cols].replace({'yes': 1, 'no': 0})\n",
        "\n",
        "# One-hot encode 'furnishingstatus'\n",
        "data = pd.get_dummies(data, columns=['furnishingstatus'], drop_first=True)\n",
        "\n",
        "# Remove outliers using Z-score (threshold = 3)\n",
        "data = data[(np.abs(zscore(data.select_dtypes(include=[np.number]))) < 3).all(axis=1)]\n",
        "\n",
        "# Define features and target variable\n",
        "X = data.drop(columns=['price'])\n",
        "y = np.log1p(data['price'])  # Apply log transformation to stabilize variance\n",
        "\n",
        "# Split data into training (80%) and testing (20%)\n",
        "X_train, X_test, y_train, y_test = train_test_split(X, y, test_size=0.2, random_state=42)\n",
        "\n",
        "# Standardize numerical features\n",
        "scaler = StandardScaler()\n",
        "X_train_scaled = scaler.fit_transform(X_train)\n",
        "X_test_scaled = scaler.transform(X_test)\n",
        "\n",
        "# Feature Selection using RFE\n",
        "model = LinearRegression()\n",
        "rfe = RFE(model, n_features_to_select=10)  # Adjust number of features\n",
        "X_train_selected = rfe.fit_transform(X_train_scaled, y_train)\n",
        "X_test_selected = rfe.transform(X_test_scaled)\n",
        "\n",
        "# Train and evaluate different models\n",
        "models = {\n",
        "    \"Linear Regression\": LinearRegression(),\n",
        "    \"Ridge Regression\": Ridge(alpha=1.0),\n",
        "    \"Lasso Regression\": Lasso(alpha=0.1)\n",
        "}\n",
        "\n",
        "for name, model in models.items():\n",
        "    model.fit(X_train_selected, y_train)\n",
        "    y_pred = model.predict(X_test_selected)\n",
        "\n",
        "    mae = mean_absolute_error(y_test, y_pred)\n",
        "    rmse = np.sqrt(mean_squared_error(y_test, y_pred))\n",
        "    r2 = r2_score(y_test, y_pred)\n",
        "\n",
        "    print(f\"{name}:\")\n",
        "    print(\"  Mean Absolute Error (MAE):\", mae)\n",
        "    print(\"  Root Mean Squared Error (RMSE):\", rmse)\n",
        "    print(\"  R-squared (R2):\", r2)\n",
        "    print(\"-\" * 40)\n"
      ]
    }
  ],
  "metadata": {
    "colab": {
      "provenance": []
    },
    "kernelspec": {
      "display_name": "myenv",
      "language": "python",
      "name": "python3"
    },
    "language_info": {
      "codemirror_mode": {
        "name": "ipython",
        "version": 3
      },
      "file_extension": ".py",
      "mimetype": "text/x-python",
      "name": "python",
      "nbconvert_exporter": "python",
      "pygments_lexer": "ipython3",
      "version": "3.12.6"
    }
  },
  "nbformat": 4,
  "nbformat_minor": 0
}
